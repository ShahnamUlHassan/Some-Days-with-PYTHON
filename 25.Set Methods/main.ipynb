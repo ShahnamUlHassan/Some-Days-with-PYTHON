{
 "cells": [
  {
   "cell_type": "code",
   "execution_count": null,
   "id": "8f78925b",
   "metadata": {},
   "outputs": [
    {
     "name": "stdout",
     "output_type": "stream",
     "text": [
      "{1, 2, 3, 5, 6, 7}\n",
      "{1, 2, 5, 6} {3, 6, 7}\n"
     ]
    }
   ],
   "source": [
    "s1 = {1, 2, 5, 6}\n",
    "s2 = {3, 6, 7}\n",
    "print(s1.union(s2))\n",
    "print(s1, s2)\n",
    "s1.update(s2)\n"
   ]
  },
  {
   "cell_type": "code",
   "execution_count": 3,
   "id": "eac8177e",
   "metadata": {},
   "outputs": [
    {
     "name": "stdout",
     "output_type": "stream",
     "text": [
      "{'islamabad', 'faisalabad', 'rawalpindi', 'lahore', 'karachi'}\n"
     ]
    }
   ],
   "source": [
    "cities = {\"karachi\", \"lahore\", \"islamabad\", \"rawalpindi\"}\n",
    "cities2 = {\"lahore\", \"islamabad\", \"rawalpindi\", \"faisalabad\"}\n",
    "cities3 = cities.union(cities2)\n",
    "print(cities3)"
   ]
  },
  {
   "cell_type": "code",
   "execution_count": 4,
   "id": "79abeeb1",
   "metadata": {},
   "outputs": [
    {
     "name": "stdout",
     "output_type": "stream",
     "text": [
      "{'rawalpindi', 'islamabad', 'lahore'}\n"
     ]
    }
   ],
   "source": [
    "cities = {\"karachi\", \"lahore\", \"islamabad\", \"rawalpindi\"}\n",
    "cities2 = {\"lahore\", \"islamabad\", \"rawalpindi\", \"faisalabad\"}\n",
    "cities3 = cities.intersection(cities2)\n",
    "print(cities3)"
   ]
  },
  {
   "cell_type": "code",
   "execution_count": 5,
   "id": "3e28719f",
   "metadata": {},
   "outputs": [
    {
     "name": "stdout",
     "output_type": "stream",
     "text": [
      "{'rawalpindi', 'islamabad', 'lahore'}\n"
     ]
    }
   ],
   "source": [
    "cities = {\"karachi\", \"lahore\", \"islamabad\", \"rawalpindi\"}\n",
    "cities2 = {\"lahore\", \"islamabad\", \"rawalpindi\", \"faisalabad\"}\n",
    "cities.intersection_update(cities2)\n",
    "print(cities)"
   ]
  },
  {
   "cell_type": "code",
   "execution_count": 7,
   "id": "9dec611c",
   "metadata": {},
   "outputs": [
    {
     "name": "stdout",
     "output_type": "stream",
     "text": [
      "{'faisalabad', 'karachi'}\n"
     ]
    }
   ],
   "source": [
    "cities = {\"karachi\", \"lahore\", \"islamabad\", \"rawalpindi\"}\n",
    "cities2 = {\"lahore\", \"islamabad\", \"rawalpindi\", \"faisalabad\"}\n",
    "cities3 = cities.symmetric_difference(cities2)\n",
    "print(cities3)"
   ]
  },
  {
   "cell_type": "code",
   "execution_count": 8,
   "id": "c4596bf3",
   "metadata": {},
   "outputs": [
    {
     "name": "stdout",
     "output_type": "stream",
     "text": [
      "False\n"
     ]
    }
   ],
   "source": [
    "cities = {\"karachi\", \"lahore\", \"islamabad\", \"rawalpindi\"}\n",
    "cities2 = {\"lahore\", \"islamabad\", \"rawalpindi\", \"faisalabad\"}\n",
    "print(cities.isdisjoint(cities2))"
   ]
  },
  {
   "cell_type": "code",
   "execution_count": 12,
   "id": "96f20884",
   "metadata": {},
   "outputs": [
    {
     "name": "stdout",
     "output_type": "stream",
     "text": [
      "True\n",
      "False\n",
      "False\n"
     ]
    }
   ],
   "source": [
    "cities = {\"karachi\", \"lahore\", \"islamabad\", \"rawalpindi\"}\n",
    "cities2 = {\"lahore\", \"islamabad\"}\n",
    "print(cities.issuperset(cities2))\n",
    "cities3 = {\" rawalpindi\", \"multan\"}\n",
    "print(cities.issuperset(cities3))\n",
    "print(cities3.issubset(cities))"
   ]
  },
  {
   "cell_type": "code",
   "execution_count": 13,
   "id": "f89104db",
   "metadata": {},
   "outputs": [
    {
     "name": "stdout",
     "output_type": "stream",
     "text": [
      "{'islamabad', 'rawalpindi', 'lahore', 'karachi', 'multan'}\n"
     ]
    }
   ],
   "source": [
    "cities = {\"karachi\", \"lahore\", \"islamabad\", \"rawalpindi\"}\n",
    "cities.add(\"multan\")\n",
    "print(cities)"
   ]
  },
  {
   "cell_type": "code",
   "execution_count": 14,
   "id": "86642bd1",
   "metadata": {},
   "outputs": [
    {
     "name": "stdout",
     "output_type": "stream",
     "text": [
      "{'islamabad', 'karachi', 'lahore'}\n"
     ]
    }
   ],
   "source": [
    "cities = {\"karachi\", \"lahore\", \"islamabad\", \"rawalpindi\"}\n",
    "cities.remove(\"rawalpindi\")\n",
    "print(cities)"
   ]
  },
  {
   "cell_type": "code",
   "execution_count": 16,
   "id": "908957e2",
   "metadata": {},
   "outputs": [
    {
     "name": "stdout",
     "output_type": "stream",
     "text": [
      "{'islamabad', 'karachi', 'lahore'}\n",
      "{'islamabad', 'karachi', 'lahore'}\n"
     ]
    }
   ],
   "source": [
    "cities = {\"karachi\", \"lahore\", \"islamabad\", \"rawalpindi\"}\n",
    "cities.discard(\"rawalpindi\")\n",
    "print(cities)\n",
    "cities.discard(\"rawalpindi2\")\n",
    "print(cities)"
   ]
  },
  {
   "cell_type": "code",
   "execution_count": 19,
   "id": "74987e02",
   "metadata": {},
   "outputs": [
    {
     "name": "stdout",
     "output_type": "stream",
     "text": [
      "{'islamabad', 'karachi', 'lahore'}\n",
      "rawalpindi\n"
     ]
    }
   ],
   "source": [
    "cities = {\"karachi\", \"lahore\", \"islamabad\", \"rawalpindi\"}\n",
    "item = cities.pop()\n",
    "print(cities)\n",
    "print(item)"
   ]
  },
  {
   "cell_type": "code",
   "execution_count": 20,
   "id": "9281c49d",
   "metadata": {},
   "outputs": [],
   "source": [
    "cities = {\"karachi\", \"lahore\", \"islamabad\", \"rawalpindi\"}\n",
    "del cities"
   ]
  },
  {
   "cell_type": "code",
   "execution_count": 21,
   "id": "c9af9a09",
   "metadata": {},
   "outputs": [],
   "source": [
    "cities = {\"karachi\", \"lahore\", \"islamabad\", \"rawalpindi\"}\n",
    "cities.clear()"
   ]
  },
  {
   "cell_type": "code",
   "execution_count": 22,
   "id": "9dfb39ec",
   "metadata": {},
   "outputs": [
    {
     "name": "stdout",
     "output_type": "stream",
     "text": [
      "karachi is present\n"
     ]
    }
   ],
   "source": [
    "info = {\"karachi\", 19, False, 5.9,}\n",
    "if \"karachi\" in info:\n",
    "    print(\"karachi is present\")\n",
    "else:\n",
    "    print(\"karachi is not present\")    "
   ]
  }
 ],
 "metadata": {
  "kernelspec": {
   "display_name": "Python 3",
   "language": "python",
   "name": "python3"
  },
  "language_info": {
   "codemirror_mode": {
    "name": "ipython",
    "version": 3
   },
   "file_extension": ".py",
   "mimetype": "text/x-python",
   "name": "python",
   "nbconvert_exporter": "python",
   "pygments_lexer": "ipython3",
   "version": "3.13.6"
  }
 },
 "nbformat": 4,
 "nbformat_minor": 5
}
