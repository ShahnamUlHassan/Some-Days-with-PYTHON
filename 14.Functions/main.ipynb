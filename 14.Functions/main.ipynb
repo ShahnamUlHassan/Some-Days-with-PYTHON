{
 "cells": [
  {
   "cell_type": "code",
   "execution_count": 6,
   "id": "d40dae19",
   "metadata": {},
   "outputs": [
    {
     "name": "stdout",
     "output_type": "stream",
     "text": [
      "2.9166666666666665\n"
     ]
    }
   ],
   "source": [
    "a = 5\n",
    "b = 7\n",
    "gmean1 = (a*b)/(a+b)\n",
    "print(gmean1)"
   ]
  },
  {
   "cell_type": "code",
   "execution_count": 2,
   "id": "292d1162",
   "metadata": {},
   "outputs": [
    {
     "name": "stdout",
     "output_type": "stream",
     "text": [
      "2.6666666666666665\n"
     ]
    }
   ],
   "source": [
    "c = 8\n",
    "d = 4\n",
    "gmean2 = (c*d) / (c+d)\n",
    "print(gmean2)"
   ]
  },
  {
   "cell_type": "code",
   "execution_count": 9,
   "id": "89d4f608",
   "metadata": {},
   "outputs": [
    {
     "name": "stdout",
     "output_type": "stream",
     "text": [
      "2.9166666666666665\n"
     ]
    }
   ],
   "source": [
    "def calculateGmean(a, b):\n",
    "    mean = (a*b) / (a+b) \n",
    "    print(mean)\n",
    "    \n",
    "calculateGmean(a, b)    "
   ]
  },
  {
   "cell_type": "code",
   "execution_count": 10,
   "id": "25d85f11",
   "metadata": {},
   "outputs": [
    {
     "name": "stdout",
     "output_type": "stream",
     "text": [
      "2nd number is greater\n"
     ]
    }
   ],
   "source": [
    "if(a>b):\n",
    "    print(\"1st number is greater\")\n",
    "else:\n",
    "    print(\"2nd number is greater\")    "
   ]
  }
 ],
 "metadata": {
  "kernelspec": {
   "display_name": "Python 3",
   "language": "python",
   "name": "python3"
  },
  "language_info": {
   "codemirror_mode": {
    "name": "ipython",
    "version": 3
   },
   "file_extension": ".py",
   "mimetype": "text/x-python",
   "name": "python",
   "nbconvert_exporter": "python",
   "pygments_lexer": "ipython3",
   "version": "3.13.6"
  }
 },
 "nbformat": 4,
 "nbformat_minor": 5
}
