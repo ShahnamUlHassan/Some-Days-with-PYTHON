{
 "cells": [
  {
   "cell_type": "code",
   "execution_count": 1,
   "id": "9e796086",
   "metadata": {},
   "outputs": [
    {
     "name": "stdout",
     "output_type": "stream",
     "text": [
      "The average is  5.0\n"
     ]
    }
   ],
   "source": [
    "def average(a, b):\n",
    "    print(\"The average is \", (a+b)/2)\n",
    "average(4, 6)    "
   ]
  },
  {
   "cell_type": "code",
   "execution_count": 4,
   "id": "6321c076",
   "metadata": {},
   "outputs": [
    {
     "name": "stdout",
     "output_type": "stream",
     "text": [
      "The average is  5.5\n"
     ]
    }
   ],
   "source": [
    "def average(a=5, b=7):\n",
    "    print(\"The average is \", (a+b)/2)\n",
    "average(4)    "
   ]
  },
  {
   "cell_type": "code",
   "execution_count": 6,
   "id": "4daf0b9b",
   "metadata": {},
   "outputs": [
    {
     "name": "stdout",
     "output_type": "stream",
     "text": [
      "Hello bravo sammy russel\n"
     ]
    }
   ],
   "source": [
    "def name(fname, mname = \"john\", lname = \"guru\"):\n",
    "    print(\"Hello\", fname, mname, lname)\n",
    "name(\"bravo\", \"sammy\", \"russel\")    "
   ]
  },
  {
   "cell_type": "code",
   "execution_count": 7,
   "id": "33dcbcd7",
   "metadata": {},
   "outputs": [
    {
     "name": "stdout",
     "output_type": "stream",
     "text": [
      "The average is  5.5\n",
      "The average is  15.0\n"
     ]
    }
   ],
   "source": [
    "def average(a=2, b=4):\n",
    "    print(\"The average is \", (a+b)/2)\n",
    "    \n",
    "average(b=9)\n",
    "average(b=9, a= 21)    "
   ]
  }
 ],
 "metadata": {
  "kernelspec": {
   "display_name": "Python 3",
   "language": "python",
   "name": "python3"
  },
  "language_info": {
   "codemirror_mode": {
    "name": "ipython",
    "version": 3
   },
   "file_extension": ".py",
   "mimetype": "text/x-python",
   "name": "python",
   "nbconvert_exporter": "python",
   "pygments_lexer": "ipython3",
   "version": "3.13.6"
  }
 },
 "nbformat": 4,
 "nbformat_minor": 5
}
