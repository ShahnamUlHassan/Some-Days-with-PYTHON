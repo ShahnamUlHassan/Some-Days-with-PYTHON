{
 "cells": [
  {
   "cell_type": "code",
   "execution_count": 3,
   "id": "f046aa6f",
   "metadata": {},
   "outputs": [
    {
     "name": "stdout",
     "output_type": "stream",
     "text": [
      "Hello Shahnam\n",
      "S\n"
     ]
    }
   ],
   "source": [
    "name = \"Shahnam\"\n",
    "friend = \"Hassan\"\n",
    "anotherfriend = \"Moon\"\n",
    "print(\"Hello\", name)\n",
    "print(name[0])"
   ]
  },
  {
   "cell_type": "code",
   "execution_count": 2,
   "id": "22ef80aa",
   "metadata": {},
   "outputs": [
    {
     "name": "stdout",
     "output_type": "stream",
     "text": [
      "He said: \"I want to eat apple\n"
     ]
    }
   ],
   "source": [
    "apple = 'He said: \"I want to eat apple'\n",
    "print(apple)"
   ]
  },
  {
   "cell_type": "code",
   "execution_count": 7,
   "id": "2fc8e39f",
   "metadata": {},
   "outputs": [
    {
     "name": "stdout",
     "output_type": "stream",
     "text": [
      "Lets use a for loop\n",
      "\n",
      "H\n",
      "e\n",
      "l\n",
      "l\n",
      "o\n",
      " \n",
      "W\n",
      "o\n",
      "r\n",
      "l\n",
      "d\n",
      "!\n",
      "Hello World!\n",
      "Hello World!\n",
      "Hello World!\n",
      "Hello World!\n",
      "Hello World!\n",
      "Hello World!\n",
      "Hello World!\n",
      "Hello World!\n",
      "Hello World!\n",
      "Hello World!\n",
      "Hello World!\n",
      "Hello World!\n"
     ]
    }
   ],
   "source": [
    "print(\"Lets use a for loop\\n\")\n",
    "apple = \"Hello World!\"\n",
    "for chraracter in apple:\n",
    "    print(chraracter)\n",
    "\n",
    "for chraracter in apple:\n",
    "    print(apple)    "
   ]
  }
 ],
 "metadata": {
  "kernelspec": {
   "display_name": "Python 3",
   "language": "python",
   "name": "python3"
  },
  "language_info": {
   "codemirror_mode": {
    "name": "ipython",
    "version": 3
   },
   "file_extension": ".py",
   "mimetype": "text/x-python",
   "name": "python",
   "nbconvert_exporter": "python",
   "pygments_lexer": "ipython3",
   "version": "3.13.6"
  }
 },
 "nbformat": 4,
 "nbformat_minor": 5
}
