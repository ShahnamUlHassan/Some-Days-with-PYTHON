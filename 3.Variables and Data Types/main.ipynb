{
 "cells": [
  {
   "cell_type": "code",
   "execution_count": 5,
   "id": "d7e53170",
   "metadata": {},
   "outputs": [
    {
     "name": "stdout",
     "output_type": "stream",
     "text": [
      "123\n",
      "Shahnam\n",
      "125\n",
      "The type of a is : <class 'int'>\n",
      "The type of b is : <class 'str'>\n"
     ]
    }
   ],
   "source": [
    "a = 123\n",
    "print(a)\n",
    "\n",
    "b = \"Shahnam\"\n",
    "print(b)\n",
    "\n",
    "a1 = 2\n",
    "print(a + a1)\n",
    "\n",
    "print(\"The type of a is :\", type(a))\n",
    "\n",
    "print(\"The type of b is :\", type(b))"
   ]
  },
  {
   "cell_type": "code",
   "execution_count": 6,
   "id": "e135ec94",
   "metadata": {},
   "outputs": [
    {
     "name": "stdout",
     "output_type": "stream",
     "text": [
      "[8, 2.3, [-4, 5], ['apple', 'bnana']]\n"
     ]
    }
   ],
   "source": [
    "list = [8, 2.3, [-4, 5], [\"apple\", \"bnana\"]]\n",
    "print(list)"
   ]
  },
  {
   "cell_type": "code",
   "execution_count": 7,
   "id": "45bd059c",
   "metadata": {},
   "outputs": [
    {
     "name": "stdout",
     "output_type": "stream",
     "text": [
      "(('parrot', 'sparrow'), ('lion', 'tiger'))\n"
     ]
    }
   ],
   "source": [
    "tuple = ((\"parrot\", \"sparrow\"), (\"lion\", \"tiger\"))\n",
    "print(tuple)"
   ]
  },
  {
   "cell_type": "code",
   "execution_count": 8,
   "id": "42c3b65e",
   "metadata": {},
   "outputs": [
    {
     "name": "stdout",
     "output_type": "stream",
     "text": [
      "{'name': 'Shahnam', 'age': 27, 'canVote': True}\n"
     ]
    }
   ],
   "source": [
    "dict = {\"name\": \"Shahnam\", \"age\": 27, \"canVote\": True}\n",
    "print(dict)"
   ]
  }
 ],
 "metadata": {
  "kernelspec": {
   "display_name": "Python 3",
   "language": "python",
   "name": "python3"
  },
  "language_info": {
   "codemirror_mode": {
    "name": "ipython",
    "version": 3
   },
   "file_extension": ".py",
   "mimetype": "text/x-python",
   "name": "python",
   "nbconvert_exporter": "python",
   "pygments_lexer": "ipython3",
   "version": "3.13.6"
  }
 },
 "nbformat": 4,
 "nbformat_minor": 5
}
