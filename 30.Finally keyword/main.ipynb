{
 "cells": [
  {
   "cell_type": "code",
   "execution_count": 3,
   "id": "abc31432",
   "metadata": {},
   "outputs": [
    {
     "name": "stdout",
     "output_type": "stream",
     "text": [
      "some error occurred\n",
      "i am always executed\n",
      "0\n"
     ]
    }
   ],
   "source": [
    "def func():\n",
    "    try:\n",
    "        l = [1, 5, 3, 7]\n",
    "        i = int(input(\"Enter the index\"))\n",
    "        print(l[i])\n",
    "        return 1\n",
    "    except:\n",
    "        print(\"some error occurred\")\n",
    "        return 0\n",
    "    finally:\n",
    "        print(\"i am always executed\")\n",
    "        \n",
    "x = func()\n",
    "print(x)        "
   ]
  }
 ],
 "metadata": {
  "kernelspec": {
   "display_name": "Python 3",
   "language": "python",
   "name": "python3"
  },
  "language_info": {
   "codemirror_mode": {
    "name": "ipython",
    "version": 3
   },
   "file_extension": ".py",
   "mimetype": "text/x-python",
   "name": "python",
   "nbconvert_exporter": "python",
   "pygments_lexer": "ipython3",
   "version": "3.13.6"
  }
 },
 "nbformat": 4,
 "nbformat_minor": 5
}
