{
 "cells": [
  {
   "cell_type": "code",
   "execution_count": 2,
   "id": "aec8dff1",
   "metadata": {},
   "outputs": [
    {
     "name": "stdout",
     "output_type": "stream",
     "text": [
      "Shahnam\n"
     ]
    }
   ],
   "source": [
    "names = \"Shahnam,Hassan\"\n",
    "print(names[0:7])"
   ]
  },
  {
   "cell_type": "code",
   "execution_count": 7,
   "id": "e70eab11",
   "metadata": {},
   "outputs": [
    {
     "name": "stdout",
     "output_type": "stream",
     "text": [
      "5\n",
      "Mang\n",
      "ang\n",
      "Mango\n",
      "Ma\n",
      "ng\n"
     ]
    }
   ],
   "source": [
    "fruit = \"Mango\"\n",
    "mangoLen = len(fruit)\n",
    "print(mangoLen)\n",
    "print(fruit[0:4])\n",
    "print(fruit[1:4])\n",
    "print(fruit[:5])\n",
    "print(fruit[0:-3])\n",
    "print(fruit[-3:-1])"
   ]
  },
  {
   "cell_type": "code",
   "execution_count": 8,
   "id": "9c48921e",
   "metadata": {},
   "outputs": [
    {
     "name": "stdout",
     "output_type": "stream",
     "text": [
      "hn\n"
     ]
    }
   ],
   "source": [
    "nm = \"Shahnam\"\n",
    "print(nm[-4:-2])"
   ]
  }
 ],
 "metadata": {
  "kernelspec": {
   "display_name": "Python 3",
   "language": "python",
   "name": "python3"
  },
  "language_info": {
   "codemirror_mode": {
    "name": "ipython",
    "version": 3
   },
   "file_extension": ".py",
   "mimetype": "text/x-python",
   "name": "python",
   "nbconvert_exporter": "python",
   "pygments_lexer": "ipython3",
   "version": "3.13.6"
  }
 },
 "nbformat": 4,
 "nbformat_minor": 5
}
