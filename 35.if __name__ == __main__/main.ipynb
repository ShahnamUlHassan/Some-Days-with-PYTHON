{
 "cells": [
  {
   "cell_type": "code",
   "execution_count": null,
   "id": "8675b769",
   "metadata": {},
   "outputs": [
    {
     "name": "stdout",
     "output_type": "stream",
     "text": [
      "Hello you are welcome from shahnam\n"
     ]
    }
   ],
   "source": [
    "# Importing the module 'shahnam' so we can use its functions\n",
    "import shahnam\n",
    "\n",
    "# Calling the 'welcome' function from the 'shahnam' module\n",
    "shahnam.welcome()\n"
   ]
  }
 ],
 "metadata": {
  "kernelspec": {
   "display_name": "Python 3",
   "language": "python",
   "name": "python3"
  },
  "language_info": {
   "codemirror_mode": {
    "name": "ipython",
    "version": 3
   },
   "file_extension": ".py",
   "mimetype": "text/x-python",
   "name": "python",
   "nbconvert_exporter": "python",
   "pygments_lexer": "ipython3",
   "version": "3.13.6"
  }
 },
 "nbformat": 4,
 "nbformat_minor": 5
}
