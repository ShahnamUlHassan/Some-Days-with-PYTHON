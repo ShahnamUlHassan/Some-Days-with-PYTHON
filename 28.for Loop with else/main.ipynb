{
 "cells": [
  {
   "cell_type": "code",
   "execution_count": 1,
   "id": "38965b71",
   "metadata": {},
   "outputs": [
    {
     "name": "stdout",
     "output_type": "stream",
     "text": [
      "0\n",
      "1\n",
      "2\n",
      "3\n",
      "4\n",
      "Sorry no i\n"
     ]
    }
   ],
   "source": [
    "for i in range(5):\n",
    "    print(i)\n",
    "else:\n",
    "    print(\"Sorry no i\")    "
   ]
  },
  {
   "cell_type": "code",
   "execution_count": 2,
   "id": "750f4c1f",
   "metadata": {},
   "outputs": [
    {
     "name": "stdout",
     "output_type": "stream",
     "text": [
      "Sorry no i\n"
     ]
    }
   ],
   "source": [
    "for i in []:\n",
    "    print(i) \n",
    "else:\n",
    "    print(\"Sorry no i\")    "
   ]
  },
  {
   "cell_type": "code",
   "execution_count": 3,
   "id": "ee1f9797",
   "metadata": {},
   "outputs": [
    {
     "name": "stdout",
     "output_type": "stream",
     "text": [
      "0\n",
      "1\n",
      "2\n",
      "3\n",
      "4\n"
     ]
    }
   ],
   "source": [
    "for i in range(6):\n",
    "    print(i) \n",
    "    if i == 4:\n",
    "        break\n",
    "else:\n",
    "    (\"Sorry no i\")    "
   ]
  },
  {
   "cell_type": "code",
   "execution_count": 4,
   "id": "b849eef8",
   "metadata": {},
   "outputs": [
    {
     "name": "stdout",
     "output_type": "stream",
     "text": [
      "0\n",
      "1\n",
      "2\n",
      "3\n"
     ]
    }
   ],
   "source": [
    "i = 0\n",
    "while i < 7:\n",
    "    print(i) \n",
    "    i = i + 1\n",
    "    if i == 4:\n",
    "        break\n",
    "else:\n",
    "    print(\"Sorry no i\")    "
   ]
  },
  {
   "cell_type": "code",
   "execution_count": 5,
   "id": "ec5e9898",
   "metadata": {},
   "outputs": [
    {
     "name": "stdout",
     "output_type": "stream",
     "text": [
      "iteration no 1 in for loop\n",
      "iteration no 2 in for loop\n",
      "iteration no 3 in for loop\n",
      "iteration no 4 in for loop\n",
      "iteration no 5 in for loop\n",
      "else block in loop\n",
      "out of loop\n"
     ]
    }
   ],
   "source": [
    "for x in range(5):\n",
    "    print(\"iteration no {} in for loop\".format(x+1))\n",
    "else:\n",
    "    print(\"else block in loop\")\n",
    "print(\"out of loop\")        "
   ]
  }
 ],
 "metadata": {
  "kernelspec": {
   "display_name": "Python 3",
   "language": "python",
   "name": "python3"
  },
  "language_info": {
   "codemirror_mode": {
    "name": "ipython",
    "version": 3
   },
   "file_extension": ".py",
   "mimetype": "text/x-python",
   "name": "python",
   "nbconvert_exporter": "python",
   "pygments_lexer": "ipython3",
   "version": "3.13.6"
  }
 },
 "nbformat": 4,
 "nbformat_minor": 5
}
