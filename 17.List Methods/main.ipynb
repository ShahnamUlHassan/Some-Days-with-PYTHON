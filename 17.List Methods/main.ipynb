{
 "cells": [
  {
   "cell_type": "code",
   "execution_count": 13,
   "id": "40987349",
   "metadata": {},
   "outputs": [
    {
     "name": "stdout",
     "output_type": "stream",
     "text": [
      "[9, 8, 1, 2, 4, 6]\n",
      "[9, 8, 1, 2, 4, 6, 7]\n",
      "[1, 2, 4, 6, 7, 8, 9]\n",
      "[9, 8, 7, 6, 4, 2, 1]\n",
      "[1, 2, 4, 6, 7, 8, 9]\n",
      "1\n",
      "1\n"
     ]
    }
   ],
   "source": [
    "list = [9, 8, 1, 2, 4, 6]\n",
    "print(list)\n",
    "list.append(7)\n",
    "print(list)\n",
    "list.sort()\n",
    "print(list)\n",
    "list.sort(reverse=True)\n",
    "print(list)\n",
    "list.reverse()\n",
    "print(list) \n",
    "print(list.index(2))\n",
    "print(list.count(6))\n"
   ]
  },
  {
   "cell_type": "code",
   "execution_count": 14,
   "id": "4e1ce539",
   "metadata": {},
   "outputs": [
    {
     "name": "stdout",
     "output_type": "stream",
     "text": [
      "[0, 8, 1, 2, 4, 6]\n"
     ]
    }
   ],
   "source": [
    "list1 = [9, 8, 1, 2, 4, 6]\n",
    "m = list1\n",
    "m[0] = 0\n",
    "print(list1)"
   ]
  },
  {
   "cell_type": "code",
   "execution_count": 15,
   "id": "d5b9b4bb",
   "metadata": {},
   "outputs": [
    {
     "name": "stdout",
     "output_type": "stream",
     "text": [
      "[9, 8, 1, 2, 4, 6]\n"
     ]
    }
   ],
   "source": [
    "list2 = [9, 8, 1, 2, 4, 6]\n",
    "m = list2.copy()\n",
    "print(list2)"
   ]
  },
  {
   "cell_type": "code",
   "execution_count": 16,
   "id": "85077d29",
   "metadata": {},
   "outputs": [
    {
     "name": "stdout",
     "output_type": "stream",
     "text": [
      "[9, 45, 8, 1, 2, 4, 6]\n"
     ]
    }
   ],
   "source": [
    "list2 = [9, 8, 1, 2, 4, 6]\n",
    "list2.insert(1, 45)\n",
    "print(list2)"
   ]
  },
  {
   "cell_type": "code",
   "execution_count": 17,
   "id": "0e49d9ac",
   "metadata": {},
   "outputs": [
    {
     "name": "stdout",
     "output_type": "stream",
     "text": [
      "[9, 8, 1, 2, 4, 6, 900, 1000, 1100]\n"
     ]
    }
   ],
   "source": [
    "list2 = [9, 8, 1, 2, 4, 6]\n",
    "m = [900, 1000, 1100]\n",
    "list2.extend(m) \n",
    "print(list2)"
   ]
  },
  {
   "cell_type": "code",
   "execution_count": 18,
   "id": "1e502b91",
   "metadata": {},
   "outputs": [
    {
     "name": "stdout",
     "output_type": "stream",
     "text": [
      "[1, 2, 3, 4, 5, 6, 7, 8]\n"
     ]
    }
   ],
   "source": [
    "l = [1, 2, 3, 4]\n",
    "l2 = [5, 6, 7, 8]\n",
    "l3 = l + l2\n",
    "print(l3)"
   ]
  }
 ],
 "metadata": {
  "kernelspec": {
   "display_name": "Python 3",
   "language": "python",
   "name": "python3"
  },
  "language_info": {
   "codemirror_mode": {
    "name": "ipython",
    "version": 3
   },
   "file_extension": ".py",
   "mimetype": "text/x-python",
   "name": "python",
   "nbconvert_exporter": "python",
   "pygments_lexer": "ipython3",
   "version": "3.13.6"
  }
 },
 "nbformat": 4,
 "nbformat_minor": 5
}
