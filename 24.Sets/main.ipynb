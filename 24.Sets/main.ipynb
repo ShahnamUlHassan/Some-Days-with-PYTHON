{
 "cells": [
  {
   "cell_type": "code",
   "execution_count": 3,
   "id": "3d19454c",
   "metadata": {},
   "outputs": [
    {
     "name": "stdout",
     "output_type": "stream",
     "text": [
      "{2, 4, 6}\n",
      "{False, 19, 5.9, 'Shahnam'}\n",
      "<class 'set'>\n",
      "False\n",
      "19\n",
      "5.9\n",
      "Shahnam\n"
     ]
    }
   ],
   "source": [
    "s = {2, 4, 2, 6}\n",
    "print(s)\n",
    "\n",
    "info = {\"Shahnam\", 19, False, 5.9, 19, }\n",
    "print(info)\n",
    "\n",
    "moon = set() \n",
    "print(type(moon))\n",
    "\n",
    "for value in info:\n",
    "    print(value) "
   ]
  }
 ],
 "metadata": {
  "kernelspec": {
   "display_name": "Python 3",
   "language": "python",
   "name": "python3"
  },
  "language_info": {
   "codemirror_mode": {
    "name": "ipython",
    "version": 3
   },
   "file_extension": ".py",
   "mimetype": "text/x-python",
   "name": "python",
   "nbconvert_exporter": "python",
   "pygments_lexer": "ipython3",
   "version": "3.13.6"
  }
 },
 "nbformat": 4,
 "nbformat_minor": 5
}
