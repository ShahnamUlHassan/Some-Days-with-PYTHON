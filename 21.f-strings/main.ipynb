{
 "cells": [
  {
   "cell_type": "code",
   "execution_count": 4,
   "id": "af5f351c",
   "metadata": {},
   "outputs": [
    {
     "name": "stdout",
     "output_type": "stream",
     "text": [
      "Hello my name is Shahnam and i'm from Pakistan\n",
      "Hello my name is Shahnam and i'm from Pakistan\n"
     ]
    }
   ],
   "source": [
    "letter = \"Hello my name is {1} and i'm from {0}\"\n",
    "country = \"Pakistan\"\n",
    "name = \"Shahnam\"\n",
    "\n",
    "print(letter.format(country, name))\n",
    "print(f\"Hello my name is {name} and i'm from {country}\")"
   ]
  },
  {
   "cell_type": "code",
   "execution_count": 5,
   "id": "2bc13f4d",
   "metadata": {},
   "outputs": [
    {
     "name": "stdout",
     "output_type": "stream",
     "text": [
      "for only 49.10 dollars\n"
     ]
    }
   ],
   "source": [
    "txt = \"for only {price:.2f} dollars\"\n",
    "print(txt.format(price = 49.0999))"
   ]
  },
  {
   "cell_type": "code",
   "execution_count": 6,
   "id": "d77df306",
   "metadata": {},
   "outputs": [
    {
     "name": "stdout",
     "output_type": "stream",
     "text": [
      "60\n"
     ]
    }
   ],
   "source": [
    "print(f\"{2 * 30}\")"
   ]
  }
 ],
 "metadata": {
  "kernelspec": {
   "display_name": "Python 3",
   "language": "python",
   "name": "python3"
  },
  "language_info": {
   "codemirror_mode": {
    "name": "ipython",
    "version": 3
   },
   "file_extension": ".py",
   "mimetype": "text/x-python",
   "name": "python",
   "nbconvert_exporter": "python",
   "pygments_lexer": "ipython3",
   "version": "3.13.6"
  }
 },
 "nbformat": 4,
 "nbformat_minor": 5
}
