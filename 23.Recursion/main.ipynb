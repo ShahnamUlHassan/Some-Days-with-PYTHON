{
 "cells": [
  {
   "cell_type": "code",
   "execution_count": null,
   "id": "7f876955",
   "metadata": {},
   "outputs": [
    {
     "name": "stdout",
     "output_type": "stream",
     "text": [
      "6\n",
      "24\n",
      "120\n"
     ]
    }
   ],
   "source": [
    "# factorial(7) = 7*6*5*4*3*2*1\n",
    "# factorial(6) = 6*5*4*3*2*1\n",
    "# factorial(5) = 5*4*3*2*1\n",
    "# factorial(4) = 4*3*2*1\n",
    "# factorial(0) = 1\n",
    "\n",
    "# factorial(n) = n * factorial(n-1)\n",
    "\n",
    "def factorial(n):\n",
    "    if(n==0 or n==1):\n",
    "        return 1\n",
    "    else:\n",
    "        return n * factorial(n-1)\n",
    "    \n",
    "print(factorial(5))\n",
    "# 5 * factorial(4)\n",
    "# 5 * 4 * factorial(3) \n",
    "# 5 * 4 * 3 * factorial(2)\n",
    "# 5 * 4 * 3 * 2 * factorial(1)\n",
    "\n",
    "\n",
    "# f(0) = 0\n",
    "# f(1) = 1\n",
    "# f(2) = f1 + f0\n",
    "# f(n) = f(n-1) + f(n-2)  "
   ]
  }
 ],
 "metadata": {
  "kernelspec": {
   "display_name": "Python 3",
   "language": "python",
   "name": "python3"
  },
  "language_info": {
   "codemirror_mode": {
    "name": "ipython",
    "version": 3
   },
   "file_extension": ".py",
   "mimetype": "text/x-python",
   "name": "python",
   "nbconvert_exporter": "python",
   "pygments_lexer": "ipython3",
   "version": "3.13.6"
  }
 },
 "nbformat": 4,
 "nbformat_minor": 5
}
