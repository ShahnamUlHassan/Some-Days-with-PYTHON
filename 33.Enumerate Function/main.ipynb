{
 "cells": [
  {
   "cell_type": "code",
   "execution_count": 1,
   "id": "a19fc3bd",
   "metadata": {},
   "outputs": [
    {
     "name": "stdout",
     "output_type": "stream",
     "text": [
      "12\n",
      "21\n",
      "32\n",
      "41\n",
      "Ali, Awesome!\n",
      "54\n",
      "45\n",
      "19\n",
      "39\n"
     ]
    }
   ],
   "source": [
    "marks = [12, 21, 32, 41, 54, 45, 19, 39]\n",
    "index = 0\n",
    "for mark in marks:\n",
    "    print(mark)\n",
    "    if(index == 3):\n",
    "        print(\"Ali, Awesome!\")\n",
    "    index += 1    "
   ]
  },
  {
   "cell_type": "code",
   "execution_count": 2,
   "id": "d5a0c09a",
   "metadata": {},
   "outputs": [
    {
     "name": "stdout",
     "output_type": "stream",
     "text": [
      "12\n",
      "21\n",
      "32\n",
      "41\n",
      "Ali, Awesome\n",
      "54\n",
      "45\n",
      "19\n",
      "39\n"
     ]
    }
   ],
   "source": [
    "marks = [12, 21, 32, 41, 54, 45, 19, 39]\n",
    "for index, mark in enumerate(marks):\n",
    "    print(mark)\n",
    "    if(index == 3):\n",
    "        print(\"Ali, Awesome\")"
   ]
  },
  {
   "cell_type": "code",
   "execution_count": 4,
   "id": "944588b7",
   "metadata": {},
   "outputs": [
    {
     "name": "stdout",
     "output_type": "stream",
     "text": [
      "12\n",
      "21\n",
      "32\n",
      "Ali, Awesome\n",
      "41\n",
      "54\n",
      "45\n",
      "19\n",
      "39\n"
     ]
    }
   ],
   "source": [
    "marks = [12, 21, 32, 41, 54, 45, 19, 39]\n",
    "for index, mark in enumerate(marks, start=1):\n",
    "    print(mark)\n",
    "    if(index == 3):\n",
    "        print(\"Ali, Awesome\")"
   ]
  }
 ],
 "metadata": {
  "kernelspec": {
   "display_name": "Python 3",
   "language": "python",
   "name": "python3"
  },
  "language_info": {
   "codemirror_mode": {
    "name": "ipython",
    "version": 3
   },
   "file_extension": ".py",
   "mimetype": "text/x-python",
   "name": "python",
   "nbconvert_exporter": "python",
   "pygments_lexer": "ipython3",
   "version": "3.13.6"
  }
 },
 "nbformat": 4,
 "nbformat_minor": 5
}
