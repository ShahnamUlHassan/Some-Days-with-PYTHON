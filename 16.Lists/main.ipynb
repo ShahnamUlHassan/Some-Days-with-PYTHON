{
 "cells": [
  {
   "cell_type": "code",
   "execution_count": 3,
   "id": "f7362870",
   "metadata": {},
   "outputs": [
    {
     "name": "stdout",
     "output_type": "stream",
     "text": [
      "[3, 5, 7]\n",
      "<class 'list'>\n",
      "3\n",
      "5\n",
      "7\n"
     ]
    }
   ],
   "source": [
    "marks= [3, 5, 7]\n",
    "print(marks)\n",
    "print(type(marks))\n",
    "print(marks[0])\n",
    "print(marks[1])\n",
    "print(marks[2])"
   ]
  },
  {
   "cell_type": "code",
   "execution_count": 6,
   "id": "60030aa1",
   "metadata": {},
   "outputs": [
    {
     "name": "stdout",
     "output_type": "stream",
     "text": [
      "3\n",
      "3\n",
      "3\n",
      "3\n"
     ]
    }
   ],
   "source": [
    "marks = [7, 5, 3, 1, 9]\n",
    "print(marks[-3])\n",
    "print(marks[len(marks)-3])\n",
    "print(marks[5-3])\n",
    "print(marks[2])"
   ]
  },
  {
   "cell_type": "code",
   "execution_count": 7,
   "id": "9a37200f",
   "metadata": {},
   "outputs": [
    {
     "name": "stdout",
     "output_type": "stream",
     "text": [
      "No\n"
     ]
    }
   ],
   "source": [
    "marks = [1, 3, 5, 7, 9]\n",
    "if 6 in marks:\n",
    "    print(\"Yes\")\n",
    "else:\n",
    "    print(\"No\")    "
   ]
  },
  {
   "cell_type": "code",
   "execution_count": 8,
   "id": "257759a6",
   "metadata": {},
   "outputs": [
    {
     "name": "stdout",
     "output_type": "stream",
     "text": [
      "[1, 3, 5, 7, 9]\n",
      "[3, 5, 7]\n",
      "[3, 5, 7]\n"
     ]
    }
   ],
   "source": [
    "marks = [1, 3, 5, 7, 9]\n",
    "print(marks)\n",
    "print(marks[1:-1])\n",
    "print(marks[1:4])"
   ]
  },
  {
   "cell_type": "code",
   "execution_count": 9,
   "id": "cb1258ab",
   "metadata": {},
   "outputs": [
    {
     "name": "stdout",
     "output_type": "stream",
     "text": [
      "[0, 1, 4, 9]\n"
     ]
    }
   ],
   "source": [
    "lst = [i*i for i in range(4)]\n",
    "print(lst)"
   ]
  }
 ],
 "metadata": {
  "kernelspec": {
   "display_name": "Python 3",
   "language": "python",
   "name": "python3"
  },
  "language_info": {
   "codemirror_mode": {
    "name": "ipython",
    "version": 3
   },
   "file_extension": ".py",
   "mimetype": "text/x-python",
   "name": "python",
   "nbconvert_exporter": "python",
   "pygments_lexer": "ipython3",
   "version": "3.13.6"
  }
 },
 "nbformat": 4,
 "nbformat_minor": 5
}
