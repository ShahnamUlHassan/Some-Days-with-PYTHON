{
 "cells": [
  {
   "cell_type": "code",
   "execution_count": 9,
   "id": "c92baf59",
   "metadata": {},
   "outputs": [
    {
     "name": "stdout",
     "output_type": "stream",
     "text": [
      "<class 'tuple'>\n",
      "1\n",
      "5\n",
      "Yes 5 in this tuple\n",
      "(3, 9)\n",
      "2\n"
     ]
    }
   ],
   "source": [
    "tup = (1, 5, 3, 9, 2)\n",
    "print(type(tup))\n",
    "print(tup[0])\n",
    "print(len(tup))\n",
    "\n",
    "if 5 in tup:\n",
    "    print(\"Yes 5 in this tuple\")\n",
    "    \n",
    "tup2 = tup[2:4] \n",
    "print(tup2)   \n",
    "print(len(tup2))"
   ]
  }
 ],
 "metadata": {
  "kernelspec": {
   "display_name": "Python 3",
   "language": "python",
   "name": "python3"
  },
  "language_info": {
   "codemirror_mode": {
    "name": "ipython",
    "version": 3
   },
   "file_extension": ".py",
   "mimetype": "text/x-python",
   "name": "python",
   "nbconvert_exporter": "python",
   "pygments_lexer": "ipython3",
   "version": "3.13.6"
  }
 },
 "nbformat": 4,
 "nbformat_minor": 5
}
