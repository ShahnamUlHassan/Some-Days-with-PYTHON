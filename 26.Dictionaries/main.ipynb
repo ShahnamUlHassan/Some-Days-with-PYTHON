{
 "cells": [
  {
   "cell_type": "code",
   "execution_count": 3,
   "id": "41ef34da",
   "metadata": {},
   "outputs": [
    {
     "name": "stdout",
     "output_type": "stream",
     "text": [
      "{'Shahnam': 'Human being', 'Spoon': 'Object'}\n",
      "Human being\n"
     ]
    }
   ],
   "source": [
    "dic = {\n",
    "    \"Shahnam\": \"Human being\",\n",
    "    \"Spoon\": \"Object\"\n",
    "}\n",
    "print(dic)\n",
    "print(dic[\"Shahnam\"])"
   ]
  },
  {
   "cell_type": "code",
   "execution_count": 4,
   "id": "25c834f5",
   "metadata": {},
   "outputs": [
    {
     "name": "stdout",
     "output_type": "stream",
     "text": [
      "MrBean\n"
     ]
    }
   ],
   "source": [
    "dic2 = {\n",
    "    344: \"Shahnam\",\n",
    "    56: \"Hassan\",\n",
    "    765: \"Moon\",\n",
    "    13: \"MrBean\"\n",
    "}\n",
    "print(dic2[13])"
   ]
  },
  {
   "cell_type": "code",
   "execution_count": 6,
   "id": "72b4248b",
   "metadata": {},
   "outputs": [
    {
     "name": "stdout",
     "output_type": "stream",
     "text": [
      "{'name': 'Shahnam', 'age': 27, 'eligible': True}\n",
      "Shahnam\n",
      "True\n"
     ]
    }
   ],
   "source": [
    "info = {\"name\": \"Shahnam\", \"age\": 27, \"eligible\": True}\n",
    "print(info)\n",
    "print(info[\"name\"])\n",
    "print(info.get(\"eligible\"))"
   ]
  },
  {
   "cell_type": "code",
   "execution_count": 10,
   "id": "69deed4e",
   "metadata": {},
   "outputs": [
    {
     "name": "stdout",
     "output_type": "stream",
     "text": [
      "{'name': 'Shahnam', 'age': 27, 'eligible': True}\n",
      "dict_keys(['name', 'age', 'eligible'])\n",
      "dict_values(['Shahnam', 27, True])\n",
      "the value of corresponding to the key name is Shahnam\n",
      "the value of corresponding to the key age is 27\n",
      "the value of corresponding to the key eligible is True\n"
     ]
    }
   ],
   "source": [
    "info = {\"name\": \"Shahnam\", \"age\": 27, \"eligible\": True}\n",
    "print(info)\n",
    "print(info.keys())\n",
    "print(info.values())\n",
    "for key in info.keys():\n",
    "    print(f\"the value of corresponding to the key {key} is {info[key]}\")"
   ]
  },
  {
   "cell_type": "code",
   "execution_count": 11,
   "id": "90afc0cf",
   "metadata": {},
   "outputs": [
    {
     "name": "stdout",
     "output_type": "stream",
     "text": [
      "dict_items([('name', 'Shahnam'), ('age', 27), ('eligible', True)])\n",
      "The value corresponding to the key name is Shahnam\n",
      "The value corresponding to the key age is 27\n",
      "The value corresponding to the key eligible is True\n"
     ]
    }
   ],
   "source": [
    "info = {\"name\": \"Shahnam\", \"age\": 27, \"eligible\": True}\n",
    "print(info.items())\n",
    "for key, value in info.items():\n",
    "    print(f\"The value corresponding to the key {key} is {info[key]}\")"
   ]
  }
 ],
 "metadata": {
  "kernelspec": {
   "display_name": "Python 3",
   "language": "python",
   "name": "python3"
  },
  "language_info": {
   "codemirror_mode": {
    "name": "ipython",
    "version": 3
   },
   "file_extension": ".py",
   "mimetype": "text/x-python",
   "name": "python",
   "nbconvert_exporter": "python",
   "pygments_lexer": "ipython3",
   "version": "3.13.6"
  }
 },
 "nbformat": 4,
 "nbformat_minor": 5
}
