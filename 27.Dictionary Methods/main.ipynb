{
 "cells": [
  {
   "cell_type": "code",
   "execution_count": 1,
   "id": "3628e817",
   "metadata": {},
   "outputs": [
    {
     "name": "stdout",
     "output_type": "stream",
     "text": [
      "{122: 67, 657: 59, 351: 78, 513: 66, 222: 65, 566: 76}\n"
     ]
    }
   ],
   "source": [
    "ep1 = {122: 67, 657: 59, 351: 78, 513: 66}\n",
    "ep2 = {222: 65, 566: 76}\n",
    "ep1.update(ep2)\n",
    "print(ep1)"
   ]
  },
  {
   "cell_type": "code",
   "execution_count": null,
   "id": "171a273f",
   "metadata": {},
   "outputs": [
    {
     "name": "stdout",
     "output_type": "stream",
     "text": [
      "{}\n",
      "{}\n"
     ]
    }
   ],
   "source": [
    "ep1 = {122: 67, 657: 59, 351: 78, 513: 66}\n",
    "ep2 = {222: 65, 566: 76}\n",
    "ep1.clear()\n",
    "print(ep1)"
   ]
  },
  {
   "cell_type": "code",
   "execution_count": 4,
   "id": "95aa86ae",
   "metadata": {},
   "outputs": [
    {
     "name": "stdout",
     "output_type": "stream",
     "text": [
      "{}\n"
     ]
    }
   ],
   "source": [
    "ep1 = {122: 67, 657: 59, 351: 78, 513: 66}\n",
    "empt = {}\n",
    "print(empt)"
   ]
  },
  {
   "cell_type": "code",
   "execution_count": 5,
   "id": "8d8135e7",
   "metadata": {},
   "outputs": [
    {
     "name": "stdout",
     "output_type": "stream",
     "text": [
      "{657: 59, 351: 78, 513: 66}\n"
     ]
    }
   ],
   "source": [
    "ep1 = {122: 67, 657: 59, 351: 78, 513: 66}\n",
    "ep1.pop(122)\n",
    "print(ep1)"
   ]
  },
  {
   "cell_type": "code",
   "execution_count": 7,
   "id": "fc620e1a",
   "metadata": {},
   "outputs": [
    {
     "name": "stdout",
     "output_type": "stream",
     "text": [
      "{122: 67, 657: 59, 351: 78}\n"
     ]
    }
   ],
   "source": [
    "ep1 = {122: 67, 657: 59, 351: 78, 513: 66}\n",
    "ep1.popitem()\n",
    "print(ep1)"
   ]
  },
  {
   "cell_type": "code",
   "execution_count": 8,
   "id": "245729c8",
   "metadata": {},
   "outputs": [],
   "source": [
    "ep1 = {122: 67, 657: 59, 351: 78, 513: 66}\n",
    "del ep1"
   ]
  },
  {
   "cell_type": "code",
   "execution_count": 10,
   "id": "72d12d17",
   "metadata": {},
   "outputs": [
    {
     "name": "stdout",
     "output_type": "stream",
     "text": [
      "{657: 59, 351: 78, 513: 66}\n"
     ]
    }
   ],
   "source": [
    "ep1 = {122: 67, 657: 59, 351: 78, 513: 66}\n",
    "del ep1[122]      \n",
    "print(ep1)            "
   ]
  }
 ],
 "metadata": {
  "kernelspec": {
   "display_name": "Python 3",
   "language": "python",
   "name": "python3"
  },
  "language_info": {
   "codemirror_mode": {
    "name": "ipython",
    "version": 3
   },
   "file_extension": ".py",
   "mimetype": "text/x-python",
   "name": "python",
   "nbconvert_exporter": "python",
   "pygments_lexer": "ipython3",
   "version": "3.13.6"
  }
 },
 "nbformat": 4,
 "nbformat_minor": 5
}
