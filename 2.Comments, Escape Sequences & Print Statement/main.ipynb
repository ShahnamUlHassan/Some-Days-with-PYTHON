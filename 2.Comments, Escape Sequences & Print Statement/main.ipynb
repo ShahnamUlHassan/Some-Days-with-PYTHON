{
 "cells": [
  {
   "cell_type": "code",
   "execution_count": 2,
   "id": "deac6af9",
   "metadata": {},
   "outputs": [],
   "source": [
    "# Hello please don't remove this line"
   ]
  },
  {
   "cell_type": "code",
   "execution_count": 1,
   "id": "bb31618a",
   "metadata": {},
   "outputs": [
    {
     "name": "stdout",
     "output_type": "stream",
     "text": [
      "Hello! \n",
      "World\n"
     ]
    }
   ],
   "source": [
    "print(\"Hello! \\nWorld\")"
   ]
  },
  {
   "cell_type": "code",
   "execution_count": null,
   "id": "2ad07e5a",
   "metadata": {},
   "outputs": [
    {
     "name": "stdout",
     "output_type": "stream",
     "text": [
      "Hello!\n"
     ]
    }
   ],
   "source": [
    "print(\"Hello! This is a print statement:\")"
   ]
  },
  {
   "cell_type": "code",
   "execution_count": null,
   "id": "3f01beb2",
   "metadata": {},
   "outputs": [],
   "source": [
    "print(\"Hello , Are you \\\"John?\\\"\\\" by anychance\")"
   ]
  },
  {
   "cell_type": "code",
   "execution_count": 6,
   "id": "e9f2b1b4",
   "metadata": {},
   "outputs": [
    {
     "name": "stdout",
     "output_type": "stream",
     "text": [
      "Hello~6~7007\n",
      "Shahnam!\n"
     ]
    }
   ],
   "source": [
    "print(\"Hello\", 6, 7, sep=\"~\", end=\"007\\n\")\n",
    "print(\"Shahnam!\")"
   ]
  }
 ],
 "metadata": {
  "kernelspec": {
   "display_name": "Python 3",
   "language": "python",
   "name": "python3"
  },
  "language_info": {
   "codemirror_mode": {
    "name": "ipython",
    "version": 3
   },
   "file_extension": ".py",
   "mimetype": "text/x-python",
   "name": "python",
   "nbconvert_exporter": "python",
   "pygments_lexer": "ipython3",
   "version": "3.13.6"
  }
 },
 "nbformat": 4,
 "nbformat_minor": 5
}
