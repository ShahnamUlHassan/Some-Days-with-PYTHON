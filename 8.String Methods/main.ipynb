{
 "cells": [
  {
   "cell_type": "code",
   "execution_count": null,
   "id": "dbe85ce2",
   "metadata": {},
   "outputs": [
    {
     "name": "stdout",
     "output_type": "stream",
     "text": [
      "Shahnam  !!!!!! !!!!!\n",
      "21\n",
      "SHAHNAM  !!!!!! !!!!!\n",
      "shahnam  !!!!!! !!!!!\n",
      "Shahnam  !!!!!! \n",
      "Hassan  !!!!!! !!!!!\n",
      "['Shahnam', '', '!!!!!!', '!!!!!']\n",
      "Introduction to js\n",
      "18\n",
      "50\n",
      "2\n",
      "True\n",
      "True\n",
      "10\n",
      "-1\n",
      "10\n",
      "True\n",
      "False\n",
      "True\n",
      "False\n",
      "True\n",
      "False\n"
     ]
    }
   ],
   "source": [
    "a = \"Shahnam  !!!!!! !!!!!\"\n",
    "print(a)\n",
    "print(len(a))\n",
    "print(a.upper())\n",
    "print(a.lower())\n",
    "print(a.rstrip(\"!\"))\n",
    "print(a.replace(\"Shahnam\", \"Hassan\"))\n",
    "print(a.split(\" \"))\n",
    "\n",
    "blogHeading = \"introduction tO js\"\n",
    "print(blogHeading.capitalize())\n",
    "\n",
    "\n",
    "str = \"Welcome to console\"\n",
    "print(len(str))\n",
    "print(len(str.center(50)))"
   ]
  },
  {
   "cell_type": "code",
   "execution_count": 31,
   "id": "34aead1d",
   "metadata": {},
   "outputs": [
    {
     "name": "stdout",
     "output_type": "stream",
     "text": [
      "2\n",
      "True\n",
      "True\n",
      "10\n",
      "-1\n",
      "10\n"
     ]
    }
   ],
   "source": [
    "b = \"Shahnam\"\n",
    "print(b.count(\"a\"))\n",
    "\n",
    "\n",
    "str1 = (\"Welcome to the console!!!\")\n",
    "print(str1.endswith(\"!!!\"))\n",
    "print(str1.endswith(\"to\", 4, 10))\n",
    "\n",
    "str2 = \"He's name is John. He is an honest man\"\n",
    "print(str2.find(\"is\"))\n",
    "print(str2.find(\"ishh\"))\n",
    "print(str2.index(\"is\"))\n",
    "# print(str2.index(\"ishh\"))"
   ]
  },
  {
   "cell_type": "code",
   "execution_count": 32,
   "id": "92c9fb19",
   "metadata": {},
   "outputs": [
    {
     "name": "stdout",
     "output_type": "stream",
     "text": [
      "True\n",
      "False\n",
      "True\n",
      "False\n",
      "True\n",
      "False\n"
     ]
    }
   ],
   "source": [
    "str3 = \"WelcomeToTheSchool\"\n",
    "print(str3.isalnum())\n",
    "\n",
    "str4 = \"Welcome00\"\n",
    "print(str4.isalpha())\n",
    "\n",
    "\n",
    "c = \"hello world\"\n",
    "print(c.islower())\n",
    "cc = \"hello World\"\n",
    "print(cc.islower())\n",
    "\n",
    "\n",
    "d = \"We wish you a maryy christmas\"\n",
    "print(d.isprintable())\n",
    "dd = \"we wish you a marry christmas\\n\"\n",
    "print(dd.isprintable())"
   ]
  },
  {
   "cell_type": "code",
   "execution_count": 38,
   "id": "43fd9cd3",
   "metadata": {},
   "outputs": [
    {
     "name": "stdout",
     "output_type": "stream",
     "text": [
      "True\n",
      "True\n",
      "False\n",
      "True\n",
      "False\n",
      "Python IS A programming LANGUAGe\n",
      "His Name Is John.And He Is A Honest Man\n"
     ]
    }
   ],
   "source": [
    "e = \"       \"\n",
    "print(e.isspace())\n",
    "\n",
    "f = \"World Health Organization\"\n",
    "print(f.istitle())\n",
    "ff = \"world health organization\"\n",
    "print(ff.istitle())\n",
    "\n",
    "g = \"python is a programming language\"\n",
    "print(g.startswith(\"python\"))\n",
    "gg = \"python is a programming language\"\n",
    "print(gg.startswith(\"is a\"))\n",
    "\n",
    "h = \"pYTHON is a PROGRAMMING languagE\"\n",
    "print(h.swapcase())\n",
    "\n",
    "i = \"His name is john.And he is a honest man\"\n",
    "print(i.title())"
   ]
  },
  {
   "cell_type": "code",
   "execution_count": null,
   "id": "3eb527be",
   "metadata": {},
   "outputs": [],
   "source": []
  }
 ],
 "metadata": {
  "kernelspec": {
   "display_name": "Python 3",
   "language": "python",
   "name": "python3"
  },
  "language_info": {
   "codemirror_mode": {
    "name": "ipython",
    "version": 3
   },
   "file_extension": ".py",
   "mimetype": "text/x-python",
   "name": "python",
   "nbconvert_exporter": "python",
   "pygments_lexer": "ipython3",
   "version": "3.13.6"
  }
 },
 "nbformat": 4,
 "nbformat_minor": 5
}
