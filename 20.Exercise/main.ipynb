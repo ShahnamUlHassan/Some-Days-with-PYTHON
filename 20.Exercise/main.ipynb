{
 "cells": [
  {
   "cell_type": "code",
   "execution_count": 11,
   "id": "57883127",
   "metadata": {},
   "outputs": [
    {
     "name": "stdout",
     "output_type": "stream",
     "text": [
      "Current time: 15:12:01\n",
      "You entered hour: 5\n",
      "Good Morning Sir!\n"
     ]
    }
   ],
   "source": [
    "import time\n",
    "current_time = time.strftime(\"%H:%M:%S\")\n",
    "print(\"Current time:\", current_time)\n",
    "\n",
    "hour = int(input(\"Enter hour (0-23): \"))\n",
    "print(\"You entered hour:\", hour)\n",
    "\n",
    "if hour >= 0 and hour < 12:\n",
    "    print(\"Good Morning Sir!\")\n",
    "elif hour >= 12 and hour < 17:\n",
    "    print(\"Good Afternoon Sir!\")\n",
    "else:\n",
    "    print(\"Good Night Sir!\")\n"
   ]
  }
 ],
 "metadata": {
  "kernelspec": {
   "display_name": "Python 3",
   "language": "python",
   "name": "python3"
  },
  "language_info": {
   "codemirror_mode": {
    "name": "ipython",
    "version": 3
   },
   "file_extension": ".py",
   "mimetype": "text/x-python",
   "name": "python",
   "nbconvert_exporter": "python",
   "pygments_lexer": "ipython3",
   "version": "3.13.6"
  }
 },
 "nbformat": 4,
 "nbformat_minor": 5
}
