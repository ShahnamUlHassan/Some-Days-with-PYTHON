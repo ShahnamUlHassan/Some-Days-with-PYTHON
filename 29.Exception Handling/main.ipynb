{
 "cells": [
  {
   "cell_type": "code",
   "execution_count": 4,
   "id": "d62fe116",
   "metadata": {},
   "outputs": [
    {
     "name": "stdout",
     "output_type": "stream",
     "text": [
      "Multiplication table of 5 is: \n",
      "5 X 1 = 5\n",
      "5 X 2 = 10\n",
      "5 X 3 = 15\n",
      "5 X 4 = 20\n",
      "5 X 5 = 25\n",
      "5 X 6 = 30\n",
      "5 X 7 = 35\n",
      "5 X 8 = 40\n",
      "5 X 9 = 45\n",
      "5 X 10 = 50\n",
      "some important lines of code\n",
      "end of program\n"
     ]
    }
   ],
   "source": [
    "a = input(\"Enter the number: \")\n",
    "print(f\"Multiplication table of {a} is: \")\n",
    "\n",
    "for i in range(1, 11):\n",
    "    print(f\"{int(a)} X {i} = {int(a)*i}\")\n",
    "    \n",
    "print(\"some important lines of code\")\n",
    "print(\"end of program\")    "
   ]
  },
  {
   "cell_type": "code",
   "execution_count": 6,
   "id": "8129b544",
   "metadata": {},
   "outputs": [
    {
     "name": "stdout",
     "output_type": "stream",
     "text": [
      "Multiplication table of jo is:\n",
      "Error: invalid literal for int() with base 10: 'jo'\n",
      "Some important lines of code\n",
      "End of program\n"
     ]
    }
   ],
   "source": [
    "a = input(\"Enter the number: \")\n",
    "print(f\"Multiplication table of {a} is:\")\n",
    "\n",
    "try:\n",
    "    for i in range(1, 11):\n",
    "        print(f\"{int(a)} X {i} = {int(a) * i}\")\n",
    "\n",
    "except Exception as e:\n",
    "    print(\"Error:\", e)\n",
    "\n",
    "print(\"Some important lines of code\")\n",
    "print(\"End of program\")\n"
   ]
  },
  {
   "cell_type": "code",
   "execution_count": 8,
   "id": "b5db1d03",
   "metadata": {},
   "outputs": [
    {
     "name": "stdout",
     "output_type": "stream",
     "text": [
      "Numbered entered is not an integer\n"
     ]
    }
   ],
   "source": [
    "try:\n",
    "    num = int(input(\"Enter an integer: \"))\n",
    "    a = [6, 2]\n",
    "    print(a[num])\n",
    "except ValueError:\n",
    "    print(\"Numbered entered is not an integer\")  \n",
    "except IndexError:\n",
    "    print(\"index error\")      "
   ]
  }
 ],
 "metadata": {
  "kernelspec": {
   "display_name": "Python 3",
   "language": "python",
   "name": "python3"
  },
  "language_info": {
   "codemirror_mode": {
    "name": "ipython",
    "version": 3
   },
   "file_extension": ".py",
   "mimetype": "text/x-python",
   "name": "python",
   "nbconvert_exporter": "python",
   "pygments_lexer": "ipython3",
   "version": "3.13.6"
  }
 },
 "nbformat": 4,
 "nbformat_minor": 5
}
